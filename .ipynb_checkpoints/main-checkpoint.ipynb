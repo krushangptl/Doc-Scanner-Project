{
 "cells": [
  {
   "cell_type": "code",
   "execution_count": 2,
   "id": "c92f116f-fd61-43a4-9365-73f7c29a82a2",
   "metadata": {},
   "outputs": [],
   "source": [
    "## import libs\n",
    "import numpy as np\n",
    "import matplotlib.pyplot as plt\n",
    "import cv2\n",
    "\n",
    "%matplotlib inline"
   ]
  },
  {
   "cell_type": "code",
   "execution_count": null,
   "id": "ccaf1034-5391-4c91-9d85-1ee491ac6a3e",
   "metadata": {},
   "outputs": [],
   "source": [
    "im_path = \"/home/krushang/radhey/love/personal/Doc-Scanner-Project/assets/img/img1.jpg\"\n",
    "# read image from path\n",
    "img = cv2.imread(im_path)"
   ]
  }
 ],
 "metadata": {
  "kernelspec": {
   "display_name": "Python 3 (ipykernel)",
   "language": "python",
   "name": "python3"
  },
  "language_info": {
   "codemirror_mode": {
    "name": "ipython",
    "version": 3
   },
   "file_extension": ".py",
   "mimetype": "text/x-python",
   "name": "python",
   "nbconvert_exporter": "python",
   "pygments_lexer": "ipython3",
   "version": "3.10.12"
  }
 },
 "nbformat": 4,
 "nbformat_minor": 5
}
